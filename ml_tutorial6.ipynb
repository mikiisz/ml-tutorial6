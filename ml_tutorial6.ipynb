{
 "cells": [
  {
   "cell_type": "markdown",
   "metadata": {},
   "source": [
    "# ML - Analiza Skupień"
   ]
  },
  {
   "cell_type": "markdown",
   "metadata": {},
   "source": [
    "## 1. Przygotować zbiór danych do pracy"
   ]
  },
  {
   "cell_type": "markdown",
   "metadata": {
    "raw_mimetype": "text/markdown"
   },
   "source": [
    "Naszym zbiorem danych, dla którego wykonamy zadanie będzie zbiór obrazków o wymiarach 8x8 przedstawiających cyfry."
   ]
  },
  {
   "cell_type": "code",
   "execution_count": 12,
   "metadata": {},
   "outputs": [
    {
     "data": {
      "text/plain": [
       "(1797, 64)"
      ]
     },
     "execution_count": 12,
     "metadata": {},
     "output_type": "execute_result"
    }
   ],
   "source": [
    "from sklearn.datasets import load_digits\n",
    "\n",
    "digits = load_digits()\n",
    "digits_data = digits.data\n",
    "digits_target = digits.target\n",
    "\n",
    "digits_data.shape"
   ]
  },
  {
   "cell_type": "code",
   "execution_count": 13,
   "metadata": {},
   "outputs": [],
   "source": [
    "import matplotlib.pyplot as plt\n",
    "\n",
    "# funkcja sluzy do wyswietlania obrazkow\n",
    "# x i y to ilość obrazków w poziomie i w pionie\n",
    "def printImgs(data, x, y):\n",
    "    ig, ax = plt.subplots(y, x, figsize=(8, 3))\n",
    "    imgs = data.reshape(x*y, 8, 8)\n",
    "    for axi, img in zip(ax.flat, imgs):\n",
    "        axi.set(xticks=[], yticks=[])\n",
    "        axi.imshow(img, cmap=plt.cm.binary)"
   ]
  },
  {
   "cell_type": "code",
   "execution_count": 27,
   "metadata": {},
   "outputs": [
    {
     "data": {
      "image/png": "[encoded data removed]",
      "text/plain": [
       "<Figure size 576x216 with 10 Axes>"
      ]
     },
     "metadata": {},
     "output_type": "display_data"
    }
   ],
   "source": [
    "printImgs(digits_data[:10], 10, 1)"
   ]
  },
  {
   "cell_type": "markdown",
   "metadata": {},
   "source": [
    "## 2. Popularne algorymty w analizie skupień\n",
    "\n",
    "Uczenie nienadzorowane – to rodzaj uczenia maszynowego, którego zadaniem jest odkrywaniem w zbiorze danych wzorców bez wcześniej istniejących etykiet i przy minimalnej ingerencji człowieka. Uczenie nienadzorowane zakłada brak obecności oczekiwanego wyjścia w danych uczących.\n",
    "\n",
    "Dwie główne metody stosowane w uczeniu nienadzorowanym to analiza składowych głównych oraz **analiza skupień**. Analiza skupień jest wykorzystywana w celu grupowania lub segmentowania zestawów danych ze wspólnymi atrybutami w celu ekstrapolacji występujących w nich zależności. Analiza skupień identyfikuje podobieństwa w danych i pozwala na grupowanie danych, które nie zostały oznaczone, sklasyfikowane ani skategoryzowane. Ponieważ analiza skupień bazuje na obecności lub braku takich podobieństw w nowej danych, może być wykorzystana aby wykryć nietypowe dane, które nie pasują do żadnej grupy. \n",
    "\n",
    "Jest to przegląd trzech najbardziej popularnych metod grupowania i charakterystyka, do jakich rodzajów sytuacji każda z nich nadaje się najlepiej."
   ]
  },
  {
   "cell_type": "markdown",
   "metadata": {},
   "source": [
    "### K-Means Clustering\n",
    "\n",
    "Zaczniemy od załadowania cyfr, a następnie znalezienia klastrów KMeans. Przypomnijmy, że cyfry składają się z 1797 próbek z 64 funkcjami, przy czym każda z 64 cech to jasność jednego piksela na obrazie 8 × 8. Klastrowanie może zostać przygotowane w następujący sposób:"
   ]
  },
  {
   "cell_type": "code",
   "execution_count": 21,
   "metadata": {},
   "outputs": [
    {
     "data": {
      "text/plain": [
       "(10, 64)"
      ]
     },
     "execution_count": 21,
     "metadata": {},
     "output_type": "execute_result"
    }
   ],
   "source": [
    "from sklearn.cluster import KMeans\n",
    "\n",
    "kmeans_example = KMeans(n_clusters=10, random_state=0)\n",
    "clusters_example = kmeans_example.fit_predict(digits.data)\n",
    "kmeans_example.cluster_centers_.shape"
   ]
  },
  {
   "cell_type": "markdown",
   "metadata": {},
   "source": [
    "Rezultatem jest 10 klastrów w 64 wymiarach. Zauważ, że same centra klastra są punktami 64-wymiarowymi i mogą być interpretowane jako cyfra w klastrze. Zobaczmy, jak wyglądają te centra klastrowe:"
   ]
  },
  {
   "cell_type": "code",
   "execution_count": 24,
   "metadata": {},
   "outputs": [
    {
     "data": {
      "image/png": "[encoded data removed]",
      "text/plain": [
       "<Figure size 576x216 with 10 Axes>"
      ]
     },
     "metadata": {},
     "output_type": "display_data"
    }
   ],
   "source": [
    "fig, ax = plt.subplots(2, 5, figsize=(8, 3))\n",
    "centers = kmeans_example.cluster_centers_.reshape(10, 8, 8)\n",
    "for axi, center in zip(ax.flat, centers):\n",
    "    axi.set(xticks=[], yticks=[])\n",
    "    axi.imshow(center, interpolation='nearest', cmap=plt.cm.binary)"
   ]
  },
  {
   "cell_type": "markdown",
   "metadata": {},
   "source": [
    "Widzimy, że nawet bez etykiet jesteśmy w stanie znaleźć klastry - **których centra są rozpoznawalnymi cyframi**. Jak widać możemy odczytać bez problemy cyfry z wyjątkiem jedynki i ósmeki. Widać tutaj jedną z zalet analizy skupień - może być wykorzystana aby wykryć nietypowych dane, które nie pasują do żadnej grupy. W naszym zbiorze cyfry 1 i 8 są takimi danymi (nie pasują do siebie).  "
   ]
  },
  {
   "cell_type": "markdown",
   "metadata": {},
   "source": [
    "Ponieważ K-Means nic nie wie o tożsamości klastra, etykiety 0–9 mogą być permutowane. Możemy to wpłynąć na rezulalt dopasowując każdą wyuczoną etykietę klastra do prawdziwych etykiet w niej znalezionych."
   ]
  },
  {
   "cell_type": "code",
   "execution_count": 28,
   "metadata": {},
   "outputs": [],
   "source": [
    "from scipy.stats import mode\n",
    "\n",
    "labels = np.zeros_like(clusters)\n",
    "for i in range(10):\n",
    "    mask = (clusters == i)\n",
    "    labels[mask] = mode(digits.target[mask])[0]"
   ]
  },
  {
   "cell_type": "markdown",
   "metadata": {},
   "source": [
    "Teraz możemy sprawdzić, jak dokładna była nasza nienadzorowana funkcja grupowania w znajdowaniu podobnych cyfr w danych:"
   ]
  },
  {
   "cell_type": "code",
   "execution_count": 29,
   "metadata": {},
   "outputs": [
    {
     "data": {
      "text/plain": [
       "0.7952142459654981"
      ]
     },
     "execution_count": 29,
     "metadata": {},
     "output_type": "execute_result"
    }
   ],
   "source": [
    "from sklearn.metrics import accuracy_score\n",
    "accuracy_score(digits.target, labels)"
   ]
  },
  {
   "cell_type": "markdown",
   "metadata": {},
   "source": [
    "Uzyskaliśmy 80% dokładności (zwykłym grupowaniem!). Możemy również zwizualizować ośrodek skupień:"
   ]
  },
  {
   "cell_type": "code",
   "execution_count": 32,
   "metadata": {},
   "outputs": [
    {
     "data": {
      "image/png": "[encoded data removed]",
      "text/plain": [
       "<Figure size 432x288 with 1 Axes>"
      ]
     },
     "metadata": {},
     "output_type": "display_data"
    }
   ],
   "source": [
    "import seaborn as sns; \n",
    "from sklearn.metrics import confusion_matrix\n",
    "\n",
    "sns.set()\n",
    "mat = confusion_matrix(digits.target, labels)\n",
    "sns.heatmap(mat.T, square=True, annot=True, fmt='d', cbar=False,\n",
    "            xticklabels=digits.target_names,\n",
    "            yticklabels=digits.target_names)\n",
    "\n",
    "plt.xlabel('true label')\n",
    "plt.ylabel('predicted label');"
   ]
  },
  {
   "cell_type": "markdown",
   "metadata": {},
   "source": [
    "Jak można się spodziewać po wizualizowanych wcześniej ośrodkach skupień, głównym punktem pomieszania jest ósemka i jedynka. Ale to wciąż pokazuje, że używając algorytmu K-Means, możemy zasadniczo zbudować cyfrowy klasyfikator bez odwoływania się do jakichkolwiek znanych etykiet!"
   ]
  },
  {
   "cell_type": "markdown",
   "metadata": {},
   "source": [
    "### Paritioning Around Medoids"
   ]
  },
  {
   "cell_type": "markdown",
   "metadata": {},
   "source": [
    "### Hierarchical Clustering"
   ]
  },
  {
   "cell_type": "markdown",
   "metadata": {},
   "source": [
    "## 4a. Zadanie\n",
    "\n",
    "Dla zbioru z początku tutoriala wykorzystaj metodę k-means do rozpoznawania cyfr"
   ]
  },
  {
   "cell_type": "code",
   "execution_count": 34,
   "metadata": {},
   "outputs": [],
   "source": [
    "from sklearn.cluster import KMeans\n",
    "\n",
    "def fitAndPredictKMeans(data):\n",
    "    # Stwórz klasyfikator KMeans z odpowiednią ilością klastrów\n",
    "    kmeans = # todo\n",
    "    \n",
    "    # Wytrenuj klasyfikator dla danych i zwróc predycje dla tych danych\n",
    "    clusters = # todo\n",
    "    return (kmeans, clusters)"
   ]
  },
  {
   "cell_type": "code",
   "execution_count": 35,
   "metadata": {},
   "outputs": [],
   "source": [
    "def compareWithTarget(clusters, digits_target):\n",
    "    labels = np.zeros_like(clusters)\n",
    "    for i in range(10):\n",
    "        mask = (clusters == i)\n",
    "        labels[mask] = mode(digits_target[mask])[0]\n",
    "    print(accuracy_score(digits_target, labels))"
   ]
  },
  {
   "cell_type": "code",
   "execution_count": 36,
   "metadata": {},
   "outputs": [],
   "source": [
    "def printCentroids(cluster_centers):\n",
    "    ig, ax = plt.subplots(2, 5, figsize=(8, 3))\n",
    "    centers = cluster_centers.reshape(10, 8, 8)\n",
    "    for axi, center in zip(ax.flat, centers):\n",
    "        axi.set(xticks=[], yticks=[])\n",
    "        axi.imshow(center, interpolation='nearest', cmap=plt.cm.binary)"
   ]
  },
  {
   "cell_type": "code",
   "execution_count": 38,
   "metadata": {},
   "outputs": [],
   "source": [
    "# Wykorzystaj 3 przedstawione wyżej funkcje do sprawdzenia jakości predykcji i narysowaniu centroidów klastrów\n",
    "# Podpowiedź: centroidy klastrów osiąga się przez kmeans.cluster_centers_\n",
    "\n",
    "kmeans, clusters = # todo\n",
    "printCentroids(# todo)\n",
    "compareWithTarget(# todo)"
   ]
  },
  {
   "cell_type": "markdown",
   "metadata": {},
   "source": [
    "## 4b. Zadanie\n",
    "\n",
    "Zrób to samo dla metod grupowania wokół centroidów i aglomeracyjnego klastrowania hierarchicznego.\n",
    "\n",
    "Dla grupowania wokół centroidów sprawdź rezultaty dla zastosowania różnych metryk (np. \"manhattan\", \"cosine\", \"euclidean\").\n",
    "\n",
    "Zwróć uwagę, że dla aglomeracyjnego klastrowania hierarchicznego funkcja printCentroids nie ma zastosowania, ponieważ przy tej metodzie nie wyznaczamy centroidów. Tutaj wystarczy wypisanie dokładności rozwiązania."
   ]
  },
  {
   "cell_type": "code",
   "execution_count": null,
   "metadata": {},
   "outputs": [],
   "source": []
  },
  {
   "cell_type": "markdown",
   "metadata": {},
   "source": [
    "Krótko skomentuj otrzymane wyniki:"
   ]
  },
  {
   "cell_type": "code",
   "execution_count": null,
   "metadata": {},
   "outputs": [],
   "source": []
  }
 ],
 "metadata": {
  "celltoolbar": "Raw Cell Format",
  "kernelspec": {
   "display_name": "Python 3",
   "language": "python",
   "name": "python3"
  },
  "language_info": {
   "codemirror_mode": {
    "name": "ipython",
    "version": 3
   },
   "file_extension": ".py",
   "mimetype": "text/x-python",
   "name": "python",
   "nbconvert_exporter": "python",
   "pygments_lexer": "ipython3",
   "version": "3.7.5"
  }
 },
 "nbformat": 4,
 "nbformat_minor": 4
}
