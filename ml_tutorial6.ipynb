{
 "cells": [
  {
   "cell_type": "markdown",
   "metadata": {},
   "source": [
    "# ML - Analiza Skupień"
   ]
  },
  {
   "cell_type": "markdown",
   "metadata": {},
   "source": [
    "## 1. Przygotować zbiór danych do pracy"
   ]
  },
  {
   "cell_type": "markdown",
   "metadata": {
    "raw_mimetype": "text/markdown"
   },
   "source": [
    "Naszym zbiorem danych, dla którego wykonamy zadanie będzie zbiór obrazków o wymiarach 8x8 przedstawiających cyfry."
   ]
  },
  {
   "cell_type": "code",
   "execution_count": 1,
   "metadata": {},
   "outputs": [
    {
     "data": {
      "text/plain": [
       "(1797, 64)"
      ]
     },
     "execution_count": 1,
     "metadata": {},
     "output_type": "execute_result"
    }
   ],
   "source": [
    "from sklearn.datasets import load_digits\n",
    "\n",
    "digits = load_digits()\n",
    "digits_data = digits.data\n",
    "digits_target = digits.target\n",
    "\n",
    "digits_data.shape"
   ]
  },
  {
   "cell_type": "code",
   "execution_count": 2,
   "metadata": {},
   "outputs": [],
   "source": [
    "import matplotlib.pyplot as plt\n",
    "\n",
    "# funkcja sluzy do wyswietlania obrazkow\n",
    "# x i y to ilość obrazków w poziomie i w pionie\n",
    "def printImgs(data, x, y):\n",
    "    ig, ax = plt.subplots(y, x, figsize=(8, 3))\n",
    "    imgs = data.reshape(x*y, 8, 8)\n",
    "    for axi, img in zip(ax.flat, imgs):\n",
    "        axi.set(xticks=[], yticks=[])\n",
    "        axi.imshow(img, cmap=plt.cm.binary)"
   ]
  },
  {
   "cell_type": "code",
   "execution_count": 5,
   "metadata": {},
   "outputs": [
    {
     "data": {
      "image/png": "[encoded data removed]",
      "text/plain": [
       "<Figure size 576x216 with 10 Axes>"
      ]
     },
     "metadata": {},
     "output_type": "display_data"
    }
   ],
   "source": [
    "printImgs(digits_data[:10], 5, 2)"
   ]
  },
  {
   "cell_type": "markdown",
   "metadata": {},
   "source": [
    "## 2. Popularne algorymty w analizie skupień"
   ]
  },
  {
   "cell_type": "markdown",
   "metadata": {},
   "source": [
    "### K-Means Clustering"
   ]
  },
  {
   "cell_type": "markdown",
   "metadata": {},
   "source": [
    "### Paritioning Around Medoids"
   ]
  },
  {
   "cell_type": "markdown",
   "metadata": {},
   "source": [
    "### Hierarchical Clustering"
   ]
  },
  {
   "cell_type": "markdown",
   "metadata": {},
   "source": [
    "## 3. Zadanie\n",
    "\n",
    "Dla zbioru z początku tutoriala wykorzystaj metodę k-means do rozpoznawania cyfr"
   ]
  },
  {
   "cell_type": "code",
   "execution_count": 28,
   "metadata": {},
   "outputs": [
    {
     "ename": "SyntaxError",
     "evalue": "invalid syntax (<ipython-input-28-6bf87a37b86e>, line 5)",
     "output_type": "error",
     "traceback": [
      "\u001b[0;36m  File \u001b[0;32m\"<ipython-input-28-6bf87a37b86e>\"\u001b[0;36m, line \u001b[0;32m5\u001b[0m\n\u001b[0;31m    kmeans = #KMeans(n_clusters=10, random_state=0)  <- do usunięcia\u001b[0m\n\u001b[0m                                                                    ^\u001b[0m\n\u001b[0;31mSyntaxError\u001b[0m\u001b[0;31m:\u001b[0m invalid syntax\n"
     ]
    }
   ],
   "source": [
    "from sklearn.cluster import KMeans\n",
    "\n",
    "def fitAndPredictKMeans(data):\n",
    "    #Stwórz klasyfikator KMeans z odpowiednią ilością klastrów\n",
    "    kmeans = #KMeans(n_clusters=10, random_state=0)  <- do usunięcia\n",
    "    \n",
    "    #Wytrenuj klasyfikator dla danych i zwróc predycje dla tych danych\n",
    "    clusters = #kmeans.fit_predict(data)  <- do usunięcia\n",
    "    return (kmeans, clusters)"
   ]
  },
  {
   "cell_type": "code",
   "execution_count": 24,
   "metadata": {},
   "outputs": [],
   "source": [
    "from sklearn.metrics import accuracy_score\n",
    "from scipy.stats import mode\n",
    "import numpy as np\n",
    "\n",
    "def compareWithTarget(clusters, digits_target):\n",
    "    labels = np.zeros_like(clusters)\n",
    "    for i in range(10):\n",
    "        mask = (clusters == i)\n",
    "        labels[mask] = mode(digits_target[mask])[0]\n",
    "    print(accuracy_score(digits_target, labels))"
   ]
  },
  {
   "cell_type": "code",
   "execution_count": 25,
   "metadata": {},
   "outputs": [],
   "source": [
    "def printCentroids(cluster_centers):\n",
    "    ig, ax = plt.subplots(2, 5, figsize=(8, 3))\n",
    "    centers = cluster_centers.reshape(10, 8, 8)\n",
    "    for axi, center in zip(ax.flat, centers):\n",
    "        axi.set(xticks=[], yticks=[])\n",
    "        axi.imshow(center, interpolation='nearest', cmap=plt.cm.binary)"
   ]
  },
  {
   "cell_type": "code",
   "execution_count": 27,
   "metadata": {},
   "outputs": [
    {
     "name": "stdout",
     "output_type": "stream",
     "text": [
      "0.7952142459654981\n"
     ]
    },
    {
     "data": {
      "image/png": "[encoded data removed]",
      "text/plain": [
       "<Figure size 576x216 with 10 Axes>"
      ]
     },
     "metadata": {},
     "output_type": "display_data"
    }
   ],
   "source": [
    "#Wykorzystaj 3 przedstawione wyżej funkcje do sprawdzenia jakości predykcji i narysowaniu centroidów klastrów\n",
    "#Podpowiedź: centroidy klastrów osiąga się przez kmeans.cluster_centers_\n",
    "\n",
    "#kmeans, clusters = fitAndPredictKMeans(digits_data) <- do usunięcia\n",
    "#printCentroids(kmeans.cluster_centers_)  <- do usunięcia\n",
    "#compareWithTarget(clusters, digits_target) <- do usunięcia"
   ]
  },
  {
   "cell_type": "markdown",
   "metadata": {},
   "source": [
    "Zrób to samo dla metod grupowania wokół centroidów i aglomeracyjnego klastrowania hierarchicznego.\n",
    "\n",
    "Dla grupowania wokół centroidów sprawdź rezultaty dla zastosowania różnych metryk (np. \"manhattan\", \"cosine\", \"euclidean\").\n",
    "\n",
    "Zwróć uwagę, że dla aglomeracyjnego klastrowania hierarchicznego funkcja printCentroids nie ma zastosowania, ponieważ przy tej metodzie nie wyznaczamy centroidów. Tutaj wystarczy wypisanie dokładności rozwiązania.\n",
    "\n",
    "Krótko skomentuj otrzymane wyniki."
   ]
  },
  {
   "cell_type": "code",
   "execution_count": null,
   "metadata": {},
   "outputs": [],
   "source": []
  }
 ],
 "metadata": {
  "celltoolbar": "Raw Cell Format",
  "kernelspec": {
   "display_name": "Python 3",
   "language": "python",
   "name": "python3"
  },
  "language_info": {
   "codemirror_mode": {
    "name": "ipython",
    "version": 3
   },
   "file_extension": ".py",
   "mimetype": "text/x-python",
   "name": "python",
   "nbconvert_exporter": "python",
   "pygments_lexer": "ipython3",
   "version": "3.7.5"
  }
 },
 "nbformat": 4,
 "nbformat_minor": 4
}
